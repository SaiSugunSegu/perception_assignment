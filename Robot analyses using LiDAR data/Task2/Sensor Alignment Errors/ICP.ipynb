{
 "cells": [
  {
   "cell_type": "code",
   "execution_count": 1,
   "id": "a561427d",
   "metadata": {},
   "outputs": [
    {
     "name": "stdout",
     "output_type": "stream",
     "text": [
      "Jupyter environment detected. Enabling Open3D WebVisualizer.\n",
      "[Open3D INFO] WebRTC GUI backend enabled.\n",
      "[Open3D INFO] WebRTCWindowSystem: HTTP handshake server disabled.\n"
     ]
    }
   ],
   "source": [
    "import open3d as o3d\n",
    "import numpy as np\n",
    "from copy import deepcopy\n",
    "import copy\n",
    "\n",
    "import mcap\n",
    "import rosbag2_py\n",
    "from rclpy.serialization import deserialize_message\n",
    "from rosidl_runtime_py.utilities import get_message\n",
    "from sensor_msgs.msg import PointCloud2, PointField\n",
    "import math\n",
    "\n",
    "import sys\n",
    "from collections import namedtuple\n",
    "import struct\n"
   ]
  },
  {
   "cell_type": "markdown",
   "id": "5a3cbe79",
   "metadata": {},
   "source": [
    "### Util funcs for PCD Voxalization and noise"
   ]
  },
  {
   "cell_type": "code",
   "execution_count": 2,
   "id": "7ca168e3",
   "metadata": {},
   "outputs": [],
   "source": [
    "def preprocess_point_cloud(pcd, voxel_size):\n",
    "    pcd_down = pcd.voxel_down_sample(voxel_size)\n",
    "    pcd_down.estimate_normals(\n",
    "        o3d.geometry.KDTreeSearchParamHybrid(radius=voxel_size * 2.0,\n",
    "                                             max_nn=30))\n",
    "    pcd_fpfh = o3d.pipelines.registration.compute_fpfh_feature(\n",
    "        pcd_down,\n",
    "        o3d.geometry.KDTreeSearchParamHybrid(radius=voxel_size * 5.0,\n",
    "                                             max_nn=100),\n",
    "    )\n",
    "    return (pcd_down, pcd_fpfh)\n",
    "\n",
    "def apply_noise(pcd, mu, sigma):\n",
    "    noisy_pcd = copy.deepcopy(pcd)\n",
    "    points = np.asarray(noisy_pcd.points)\n",
    "    points += np.random.normal(mu, sigma, size=points.shape)\n",
    "    noisy_pcd.points = o3d.utility.Vector3dVector(points)\n",
    "    return noisy_pcd\n"
   ]
  },
  {
   "cell_type": "markdown",
   "id": "42e342a5",
   "metadata": {},
   "source": [
    "### Reading PCD"
   ]
  },
  {
   "cell_type": "code",
   "execution_count": 3,
   "id": "b2e5cf96",
   "metadata": {},
   "outputs": [
    {
     "name": "stdout",
     "output_type": "stream",
     "text": [
      "Reading inputs\n",
      "[Open3D DEBUG] Format auto File /home/aditya/Documents/Personal/jb/interview/dexory_ex/back.pcd\n",
      "[Open3D DEBUG] PCD header indicates 3 fields, 12 bytes per point, and 57632 points in total.\n",
      "[Open3D DEBUG] x, F, 4, 1, 0\n",
      "[Open3D DEBUG] y, F, 4, 1, 4\n",
      "[Open3D DEBUG] z, F, 4, 1, 8\n",
      "[Open3D DEBUG] Compression method is 1.\n",
      "[Open3D DEBUG] Points: yes;  normals: no;  colors: no\n",
      "[Open3D DEBUG] Read geometry::PointCloud: 57632 vertices.\n",
      "[Open3D DEBUG] Format auto File /home/aditya/Documents/Personal/jb/interview/dexory_ex/front.pcd\n",
      "[Open3D DEBUG] PCD header indicates 3 fields, 12 bytes per point, and 57632 points in total.\n",
      "[Open3D DEBUG] x, F, 4, 1, 0\n",
      "[Open3D DEBUG] y, F, 4, 1, 4\n",
      "[Open3D DEBUG] z, F, 4, 1, 8\n",
      "[Open3D DEBUG] Compression method is 1.\n",
      "[Open3D DEBUG] Points: yes;  normals: no;  colors: no\n",
      "[Open3D DEBUG] Read geometry::PointCloud: 57632 vertices.\n"
     ]
    }
   ],
   "source": [
    "o3d.utility.set_verbosity_level(o3d.utility.VerbosityLevel.Debug)\n",
    "\n",
    "print(\"Reading inputs\")\n",
    "\n",
    "src = o3d.io.read_point_cloud(\"/home/aditya/Documents/Personal/jb/interview/dexory_ex/back.pcd\")\n",
    "dst = o3d.io.read_point_cloud(\"/home/aditya/Documents/Personal/jb/interview/dexory_ex/front.pcd\")\n"
   ]
  },
  {
   "cell_type": "markdown",
   "id": "e6cf444c",
   "metadata": {},
   "source": [
    "### Parameters for RANSAC and ICP"
   ]
  },
  {
   "cell_type": "code",
   "execution_count": 4,
   "id": "062b240e",
   "metadata": {},
   "outputs": [],
   "source": [
    "voxel_size = 0.5\n",
    "distance_threshold = 1.5 * voxel_size\n",
    "method = \"from_features\"\n",
    "mutual_filter=False\n",
    "max_iterations = 10000000\n",
    "confidence = 0.99999"
   ]
  },
  {
   "cell_type": "markdown",
   "id": "d1a7876d",
   "metadata": {},
   "source": [
    "### Down Sampling using Voxelization"
   ]
  },
  {
   "cell_type": "code",
   "execution_count": 5,
   "id": "d20f85c8",
   "metadata": {},
   "outputs": [
    {
     "name": "stdout",
     "output_type": "stream",
     "text": [
      "Downsampling inputs\n",
      "[Open3D DEBUG] Pointcloud down sampled from 57632 points to 5004 points.\n",
      "[Open3D DEBUG] Pointcloud down sampled from 57632 points to 5671 points.\n"
     ]
    }
   ],
   "source": [
    "print(\"Downsampling inputs\")\n",
    "src_down, src_fpfh = preprocess_point_cloud(src, voxel_size)\n",
    "dst_down, dst_fpfh = preprocess_point_cloud(dst, voxel_size)"
   ]
  },
  {
   "cell_type": "markdown",
   "id": "1c4e2ca4",
   "metadata": {},
   "source": [
    "## RANSAC - Global Registration\n",
    "### Given 2 PCD - Estimate loosly estimated Transformation using Feature Correpondence"
   ]
  },
  {
   "cell_type": "code",
   "execution_count": 6,
   "id": "867ae0dc",
   "metadata": {},
   "outputs": [
    {
     "name": "stdout",
     "output_type": "stream",
     "text": [
      "Running RANSAC from features\n",
      "[Open3D DEBUG] Thread 000013: registration fitness=0.054, corres inlier ratio=0.001, Est. max k = 6678575718.757569\n",
      "[Open3D DEBUG] Thread 1666879: registration fitness=0.132, corres inlier ratio=0.002, Est. max k = 2817524085.4936843[Open3D DEBUG] Thread 5000088: registration fitness=0.131, corres inlier ratio=0.002, Est. max k = 1083825929.5169973\n",
      "\n",
      "[Open3D DEBUG] Thread 7500396: registration fitness=0.078, corres inlier ratio=0.002, Est. max k = 1442572321.7517476\n",
      "[Open3D DEBUG] Thread 4167001: registration fitness=0.048, corres inlier ratio=0.001, Est. max k = 11540577972.139704\n",
      "[Open3D DEBUG] Thread 5833657: registration fitness=0.146, corres inlier ratio=0.002, Est. max k = 1083825929.5169973[Open3D DEBUG] Thread 9167179: registration fitness=0.132, corres inlier ratio=0.001, Est. max k = 6678575718.757569\n",
      "\n",
      "[Open3D DEBUG] Thread 834170: registration fitness=0.202, corres inlier ratio=0.002, Est. max k = 1442572321.7517476\n",
      "[Open3D DEBUG] Thread 6667251: registration fitness=0.101, corres inlier ratio=0.002, Est. max k = 834821939.6457956[Open3D DEBUG] Thread 2501054: registration fitness=0.134, corres inlier ratio=0.003, Est. max k = 293623507.99897563\n",
      "\n",
      "[Open3D DEBUG] Thread 3333711: registration fitness=0.079, corres inlier ratio=0.001, Est. max k = 4205750164.9491916\n",
      "[Open3D DEBUG] Thread 1667158: registration fitness=0.288, corres inlier ratio=0.002, Est. max k = 834821939.6457956\n",
      "[Open3D DEBUG] Thread 8334716: registration fitness=0.157, corres inlier ratio=0.002, Est. max k = 2817524085.4936843\n",
      "[Open3D DEBUG] Thread 7500576: registration fitness=0.193, corres inlier ratio=0.001, Est. max k = 11540577972.139704\n",
      "[Open3D DEBUG] Thread 834278: registration fitness=0.364, corres inlier ratio=0.004, Est. max k = 135478236.68370792\n",
      "[Open3D DEBUG] Thread 9167364: registration fitness=0.229, corres inlier ratio=0.004, Est. max k = 247354645.39686465\n",
      "[Open3D DEBUG] Thread 5001250: registration fitness=0.206, corres inlier ratio=0.005, Est. max k = 104352737.62884024\n",
      "[Open3D DEBUG] Thread 4167679: registration fitness=0.064, corres inlier ratio=0.001, Est. max k = 4205750164.9491916\n",
      "[Open3D DEBUG] Thread 5834073: registration fitness=0.170, corres inlier ratio=0.001, Est. max k = 6678575718.757569[Open3D DEBUG] Thread 1667312: registration fitness=0.510, corres inlier ratio=0.012, Est. max k = 6355470.36099222\n",
      "\n",
      "[Open3D DEBUG] Thread 2501359: registration fitness=0.346, corres inlier ratio=0.003, Est. max k = 656610064.2895428\n",
      "[Open3D DEBUG] Thread 6667484: registration fitness=0.275, corres inlier ratio=0.002, Est. max k = 1442572321.7517476\n",
      "[Open3D DEBUG] Thread 001439: registration fitness=0.136, corres inlier ratio=0.003, Est. max k = 293623507.99897563\n",
      "[Open3D DEBUG] Thread 3333938: registration fitness=0.147, corres inlier ratio=0.002, Est. max k = 2817524085.4936843\n",
      "[Open3D DEBUG] Thread 5834179: registration fitness=0.207, corres inlier ratio=0.001, Est. max k = 22540190886.983025\n",
      "[Open3D DEBUG] Thread 4167795: registration fitness=0.129, corres inlier ratio=0.002, Est. max k = 1442572321.7517476\n",
      "[Open3D DEBUG] Thread 002107: registration fitness=0.183, corres inlier ratio=0.001, Est. max k = 4205750164.9491916\n",
      "[Open3D DEBUG] Thread 5834348: registration fitness=0.393, corres inlier ratio=0.007, Est. max k = 28479498.41061247\n",
      "[Open3D DEBUG] Thread 002192: registration fitness=0.720, corres inlier ratio=0.026, Est. max k = 671992.9935038442\n",
      "[Open3D DEBUG] Thread 4167816: registration fitness=0.682, corres inlier ratio=0.021, Est. max k = 1177562.9693551308\n",
      "[Open3D DEBUG] Thread 010808: registration fitness=0.732, corres inlier ratio=0.029, Est. max k = 473182.0985639891\n",
      "[Open3D DEBUG] RANSAC exits after 1025 validations. Best inlier ratio 7.320144e-01, RMSE 3.685272e-01\n",
      "[[-9.99866954e-01  1.03866834e-03  1.62786776e-02 -1.38153541e+00]\n",
      " [-1.01186736e-03 -9.99998119e-01  1.65453566e-03 -6.09135529e-02]\n",
      " [ 1.62803655e-02  1.63784367e-03  9.99866125e-01  5.86706620e-02]\n",
      " [ 0.00000000e+00  0.00000000e+00  0.00000000e+00  1.00000000e+00]]\n"
     ]
    }
   ],
   "source": [
    "if method == \"from_features\":\n",
    "    print(\"Running RANSAC from features\")\n",
    "    result = o3d.pipelines.registration.registration_ransac_based_on_feature_matching(\n",
    "        src_down,\n",
    "        dst_down,\n",
    "        src_fpfh,\n",
    "        dst_fpfh,\n",
    "        mutual_filter=mutual_filter,\n",
    "        max_correspondence_distance=distance_threshold,\n",
    "        estimation_method=o3d.pipelines.registration.\n",
    "        TransformationEstimationPointToPoint(False),\n",
    "        ransac_n=3,\n",
    "        checkers=[\n",
    "            o3d.pipelines.registration.\n",
    "            CorrespondenceCheckerBasedOnEdgeLength(0.9),\n",
    "            o3d.pipelines.registration.CorrespondenceCheckerBasedOnDistance(\n",
    "                distance_threshold),\n",
    "        ],\n",
    "        criteria=o3d.pipelines.registration.RANSACConvergenceCriteria(\n",
    "            max_iterations, confidence),\n",
    "    )\n",
    "    \n",
    "#     visualize_registration(src, dst, result.transformation)\n",
    "    print(result.transformation)\n",
    "\n",
    "elif method == \"from_correspondences\":\n",
    "    print(\"Running RANSAC from correspondences\")\n",
    "    # Mimic importing customized external features (e.g. learned FCGF features) in numpy\n",
    "    # shape: (feature_dim, num_features)\n",
    "    src_fpfh_np = np.asarray(src_fpfh.data).copy()\n",
    "    dst_fpfh_np = np.asarray(dst_fpfh.data).copy()\n",
    "\n",
    "    src_fpfh_import = o3d.pipelines.registration.Feature()\n",
    "    src_fpfh_import.data = src_fpfh_np\n",
    "\n",
    "    dst_fpfh_import = o3d.pipelines.registration.Feature()\n",
    "    dst_fpfh_import.data = dst_fpfh_np\n",
    "\n",
    "    corres = o3d.pipelines.registration.correspondences_from_features(\n",
    "        src_fpfh_import, dst_fpfh_import, mutual_filter)\n",
    "    result = o3d.pipelines.registration.registration_ransac_based_on_correspondence(\n",
    "        src_down,\n",
    "        dst_down,\n",
    "        corres,\n",
    "        max_correspondence_distance=distance_threshold,\n",
    "        estimation_method=o3d.pipelines.registration.\n",
    "        TransformationEstimationPointToPoint(False),\n",
    "        ransac_n=3,\n",
    "        checkers=[\n",
    "            o3d.pipelines.registration.\n",
    "            CorrespondenceCheckerBasedOnEdgeLength(0.9),\n",
    "            o3d.pipelines.registration.CorrespondenceCheckerBasedOnDistance(\n",
    "                distance_threshold),\n",
    "        ],\n",
    "        criteria=o3d.pipelines.registration.RANSACConvergenceCriteria(\n",
    "            max_iterations, confidence),\n",
    "    )\n",
    "    # visualize_registration(src, dst, result.transformation)\n",
    "    print(result.transformation)"
   ]
  },
  {
   "cell_type": "markdown",
   "id": "332ddfa5",
   "metadata": {},
   "source": [
    "### Out of RANSAC - Initial Estimation for Local Registration"
   ]
  },
  {
   "cell_type": "code",
   "execution_count": 15,
   "id": "365f7491",
   "metadata": {},
   "outputs": [
    {
     "name": "stdout",
     "output_type": "stream",
     "text": [
      "Displaying Downsampled source and target point cloud with initial transformation: [[-9.99866954e-01  1.03866834e-03  1.62786776e-02 -1.38153541e+00]\n",
      " [-1.01186736e-03 -9.99998119e-01  1.65453566e-03 -6.09135529e-02]\n",
      " [ 1.62803655e-02  1.63784367e-03  9.99866125e-01  5.86706620e-02]\n",
      " [ 0.00000000e+00  0.00000000e+00  0.00000000e+00  1.00000000e+00]]\n",
      "[Open3D DEBUG] Pointcloud down sampled from 57632 points to 5004 points.\n",
      "[Open3D DEBUG] Pointcloud down sampled from 57632 points to 5671 points.\n"
     ]
    }
   ],
   "source": [
    "print(\n",
    "    \"Displaying Downsampled source and target point cloud with initial transformation:\", result.transformation\n",
    ")\n",
    "\n",
    "threshold = 1.0\n",
    "voxel_size = 0.5\n",
    "source, src_fpfh = preprocess_point_cloud(src, voxel_size)\n",
    "target, dst_fpfh = preprocess_point_cloud(dst, voxel_size)\n",
    "\n",
    "trans_init = result.transformation\n",
    "# draw_registration_result(source, target, trans_init)"
   ]
  },
  {
   "cell_type": "markdown",
   "id": "0deae3dc",
   "metadata": {},
   "source": [
    "### Local Registration - Iterative Point Cloud (Point to Plane using Huber Kernel)"
   ]
  },
  {
   "cell_type": "code",
   "execution_count": 16,
   "id": "315687aa",
   "metadata": {},
   "outputs": [
    {
     "name": "stdout",
     "output_type": "stream",
     "text": [
      "Robust point-to-plane ICP, threshold=1.0:\n",
      "Using robust loss: RobustKernel::HuberLoss with k=0.100000\n",
      "[Open3D DEBUG] ICP Iteration #0: Fitness 0.7760, RMSE 0.4275\n",
      "[Open3D DEBUG] Residual : 5.53e-02 (# of elements : 3883)\n",
      "[Open3D DEBUG] ICP Iteration #1: Fitness 0.7752, RMSE 0.4197\n",
      "[Open3D DEBUG] Residual : 5.16e-02 (# of elements : 3879)\n",
      "[Open3D DEBUG] ICP Iteration #2: Fitness 0.7786, RMSE 0.4198\n",
      "[Open3D DEBUG] Residual : 5.16e-02 (# of elements : 3896)\n",
      "[Open3D DEBUG] ICP Iteration #3: Fitness 0.7804, RMSE 0.4200\n",
      "[Open3D DEBUG] Residual : 5.26e-02 (# of elements : 3905)\n",
      "[Open3D DEBUG] ICP Iteration #4: Fitness 0.7808, RMSE 0.4195\n",
      "[Open3D DEBUG] Residual : 5.23e-02 (# of elements : 3907)\n",
      "[Open3D DEBUG] ICP Iteration #5: Fitness 0.7812, RMSE 0.4197\n",
      "[Open3D DEBUG] Residual : 5.25e-02 (# of elements : 3909)\n",
      "[Open3D DEBUG] ICP Iteration #6: Fitness 0.7814, RMSE 0.4199\n",
      "[Open3D DEBUG] Residual : 5.23e-02 (# of elements : 3910)\n",
      "[Open3D DEBUG] ICP Iteration #7: Fitness 0.7808, RMSE 0.4192\n",
      "[Open3D DEBUG] Residual : 5.26e-02 (# of elements : 3907)\n",
      "[Open3D DEBUG] ICP Iteration #8: Fitness 0.7804, RMSE 0.4188\n",
      "[Open3D DEBUG] Residual : 5.27e-02 (# of elements : 3905)\n",
      "[Open3D DEBUG] ICP Iteration #9: Fitness 0.7800, RMSE 0.4183\n",
      "[Open3D DEBUG] Residual : 5.25e-02 (# of elements : 3903)\n",
      "[Open3D DEBUG] ICP Iteration #10: Fitness 0.7804, RMSE 0.4188\n",
      "[Open3D DEBUG] Residual : 5.30e-02 (# of elements : 3905)\n",
      "[Open3D DEBUG] ICP Iteration #11: Fitness 0.7804, RMSE 0.4188\n",
      "[Open3D DEBUG] Residual : 5.31e-02 (# of elements : 3905)\n",
      "[Open3D DEBUG] ICP Iteration #12: Fitness 0.7806, RMSE 0.4191\n",
      "[Open3D DEBUG] Residual : 5.31e-02 (# of elements : 3906)\n",
      "[Open3D DEBUG] ICP Iteration #13: Fitness 0.7806, RMSE 0.4191\n",
      "[Open3D DEBUG] Residual : 5.30e-02 (# of elements : 3906)\n",
      "[Open3D DEBUG] ICP Iteration #14: Fitness 0.7808, RMSE 0.4194\n",
      "[Open3D DEBUG] Residual : 5.31e-02 (# of elements : 3907)\n",
      "RegistrationResult with fitness=7.807754e-01, inlier_rmse=4.193596e-01, and correspondence_set size of 3907\n",
      "Access transformation to get result.\n",
      "Transformation is:\n",
      "[[-9.99960358e-01  1.03484041e-03  8.84371537e-03 -1.48305767e+00]\n",
      " [-1.01199871e-03 -9.99996142e-01  2.58690122e-03 -2.15588195e-01]\n",
      " [ 8.84635828e-03  2.57784884e-03  9.99957547e-01  3.13695749e-02]\n",
      " [ 0.00000000e+00  0.00000000e+00  0.00000000e+00  1.00000000e+00]]\n"
     ]
    }
   ],
   "source": [
    "\n",
    "mu, sigma = 0, 0.1\n",
    "source_noisy = apply_noise(source, mu, sigma)\n",
    "\n",
    "icp_method = \"p2l\"\n",
    "\n",
    "if icp_method==\"p2l\":\n",
    "    print(\"Robust point-to-plane ICP, threshold={}:\".format(threshold))\n",
    "    loss = o3d.pipelines.registration.HuberLoss(k=sigma)\n",
    "    print(\"Using robust loss:\", loss)\n",
    "\n",
    "    p2l = o3d.pipelines.registration.TransformationEstimationPointToPlane(loss)\n",
    "\n",
    "    reg_p2l = o3d.pipelines.registration.registration_icp(\n",
    "        source_noisy, target, threshold, trans_init, p2l)\n",
    "    print(reg_p2l)\n",
    "    print(\"Transformation is:\")\n",
    "    print(reg_p2l.transformation)\n",
    "\n",
    "if icp_method==\"p2p\":\n",
    "    print(\"Apply point-to-point ICP\")\n",
    "    reg_p2p = o3d.pipelines.registration.registration_icp(\n",
    "        source_noisy, target, threshold, trans_init,\n",
    "        o3d.pipelines.registration.TransformationEstimationPointToPoint())\n",
    "    print(reg_p2p)\n",
    "    print(\"Transformation is:\")\n",
    "    print(reg_p2p.transformation)\n",
    "\n"
   ]
  },
  {
   "cell_type": "markdown",
   "id": "fde80df6",
   "metadata": {},
   "source": [
    "### Final Transformation "
   ]
  },
  {
   "cell_type": "code",
   "execution_count": 18,
   "id": "a5e4d85e",
   "metadata": {},
   "outputs": [
    {
     "name": "stdout",
     "output_type": "stream",
     "text": [
      "RegistrationResult with fitness=7.807754e-01, inlier_rmse=4.193596e-01, and correspondence_set size of 3907\n",
      "Access transformation to get result.\n",
      "Transformation is:\n",
      "[[-9.99960358e-01  1.03484041e-03  8.84371537e-03 -1.48305767e+00]\n",
      " [-1.01199871e-03 -9.99996142e-01  2.58690122e-03 -2.15588195e-01]\n",
      " [ 8.84635828e-03  2.57784884e-03  9.99957547e-01  3.13695749e-02]\n",
      " [ 0.00000000e+00  0.00000000e+00  0.00000000e+00  1.00000000e+00]]\n"
     ]
    }
   ],
   "source": [
    "print(reg_p2l)\n",
    "print(\"Transformation is:\")\n",
    "print(reg_p2l.transformation)"
   ]
  },
  {
   "cell_type": "markdown",
   "id": "a06fe212",
   "metadata": {},
   "source": [
    "## Tranlational and Rotational Error in Missalignment "
   ]
  },
  {
   "cell_type": "markdown",
   "id": "43309371",
   "metadata": {},
   "source": [
    "### Error in X-axis \n",
    "### - Data from tf_static = -1.5205 m \n",
    "### - Estimated using ICP = -1.48304 m"
   ]
  },
  {
   "cell_type": "code",
   "execution_count": 34,
   "id": "a09194cc",
   "metadata": {},
   "outputs": [
    {
     "name": "stdout",
     "output_type": "stream",
     "text": [
      "error_x: -0.03744232999999997  m\n"
     ]
    }
   ],
   "source": [
    "error_x = -1.5205 - (-1.48305767)\n",
    "print(\"error_x:\", error_x, \" m\")"
   ]
  },
  {
   "cell_type": "markdown",
   "id": "58a1f48a",
   "metadata": {},
   "source": [
    "### Note: The same 4 cm tranlational error reflects in visually in data"
   ]
  },
  {
   "cell_type": "markdown",
   "id": "d175fe9f",
   "metadata": {},
   "source": [
    "### Error in Y-axis \n",
    "### - Data from tf_static = -0.2828 m \n",
    "### - Estimated using ICP = -0.2155 m"
   ]
  },
  {
   "cell_type": "code",
   "execution_count": 31,
   "id": "d3632c6a",
   "metadata": {},
   "outputs": [
    {
     "name": "stdout",
     "output_type": "stream",
     "text": [
      "error_y: -0.0673  m\n"
     ]
    }
   ],
   "source": [
    "error_y = -0.2828 - (-0.2155)\n",
    "print(\"error_y:\", error_y, \" m\")"
   ]
  },
  {
   "cell_type": "markdown",
   "id": "d13d4dd8",
   "metadata": {},
   "source": [
    "### Note: The same 6 cm tranlational error reflects in visually in data"
   ]
  },
  {
   "cell_type": "markdown",
   "id": "64bb9134",
   "metadata": {},
   "source": [
    "### Rotation Error"
   ]
  },
  {
   "cell_type": "markdown",
   "id": "a67f67fa",
   "metadata": {},
   "source": [
    "### rotation matrix = \n",
    "###                   [-9.99960358e-01 , 1.03484041e-03 ,  8.84371537e-03 ]\n",
    "###                    [-1.01199871e-03, -9.99996142e-01 ,  2.58690122e-03 ]\n",
    "###                    [ 8.84635828e-03,   2.57784884e-03 ,   9.99957547e-01 ]"
   ]
  },
  {
   "cell_type": "code",
   "execution_count": 35,
   "id": "332d002c",
   "metadata": {},
   "outputs": [],
   "source": [
    "estimated_rot = [ 0.3982231, 0.2324937, 180.0580482 ]"
   ]
  },
  {
   "cell_type": "code",
   "execution_count": 36,
   "id": "2386b907",
   "metadata": {},
   "outputs": [],
   "source": [
    "rot = [0, 0, 180]"
   ]
  },
  {
   "cell_type": "code",
   "execution_count": null,
   "id": "97b0124b",
   "metadata": {},
   "outputs": [],
   "source": []
  },
  {
   "cell_type": "code",
   "execution_count": null,
   "id": "4acf124d",
   "metadata": {},
   "outputs": [],
   "source": []
  }
 ],
 "metadata": {
  "kernelspec": {
   "display_name": "Python 3 (ipykernel)",
   "language": "python",
   "name": "python3"
  },
  "language_info": {
   "codemirror_mode": {
    "name": "ipython",
    "version": 3
   },
   "file_extension": ".py",
   "mimetype": "text/x-python",
   "name": "python",
   "nbconvert_exporter": "python",
   "pygments_lexer": "ipython3",
   "version": "3.10.12"
  }
 },
 "nbformat": 4,
 "nbformat_minor": 5
}
