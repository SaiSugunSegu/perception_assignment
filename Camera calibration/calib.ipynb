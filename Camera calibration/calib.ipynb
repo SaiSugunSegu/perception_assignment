{
 "cells": [
  {
   "attachments": {},
   "cell_type": "markdown",
   "metadata": {},
   "source": [
    "# Lets Calibrate the Camera (Estimation of Intrincics)"
   ]
  },
  {
   "cell_type": "code",
   "execution_count": 1,
   "metadata": {},
   "outputs": [
    {
     "data": {
      "text/plain": [
       "True"
      ]
     },
     "execution_count": 1,
     "metadata": {},
     "output_type": "execute_result"
    }
   ],
   "source": [
    "import cv2\n",
    "import numpy as np\n",
    "import os\n",
    "\n",
    "import cv2.aruco as aruco\n",
    "\n",
    "\n",
    "squaresX = 31  # number of chessboard squares along the x-axis\n",
    "squaresY = 16  # number of chessboard squares along the y-axis\n",
    "squareLength = 0.04933  # 4.933 cm in meters\n",
    "markerLength = 0.03846  # 3.846 cm in meters\n",
    "\n",
    "\n",
    "aruco_dict = aruco.getPredefinedDictionary(aruco.DICT_4X4_250)\n",
    "board_size = (squaresX, squaresY)\n",
    "board = aruco.CharucoBoard(board_size, squareLength, markerLength, aruco_dict)\n",
    "board.setLegacyPattern(True) \n",
    "\n",
    "from_cv_img = board.generateImage((2100, 1100))\n",
    "# cv2.imshow(\"board_6_4_dict_0\", from_cv_img)\n",
    "cv2.imwrite(\"charuco_board.png\", from_cv_img)\n",
    "\n"
   ]
  },
  {
   "attachments": {},
   "cell_type": "markdown",
   "metadata": {},
   "source": [
    "### Lets Load Right and Left Images"
   ]
  },
  {
   "cell_type": "code",
   "execution_count": 2,
   "metadata": {},
   "outputs": [
    {
     "name": "stdout",
     "output_type": "stream",
     "text": [
      "39\n",
      "39\n"
     ]
    }
   ],
   "source": [
    "def read_images_from_folder(folder_path):\n",
    "    images = []\n",
    "    for filename in os.listdir(folder_path):\n",
    "        if filename.endswith(\".jpg\") or filename.endswith(\".png\"):  # Add other file extensions if needed.\n",
    "            img_path = os.path.join(folder_path, filename)\n",
    "            img = cv2.imread(img_path)\n",
    "            if img is not None:\n",
    "                images.append(img)\n",
    "    return images\n",
    "\n",
    "# Example usage:\n",
    "right_folder_path = \"right/\"\n",
    "right_images = read_images_from_folder(right_folder_path)\n",
    "left_folder_path = \"left/\"\n",
    "left_images = read_images_from_folder(left_folder_path)\n",
    "\n",
    "\n",
    "# If you want to display the images to check:\n",
    "print(len(right_images))\n",
    "print(len(left_images))\n",
    "\n"
   ]
  },
  {
   "attachments": {},
   "cell_type": "markdown",
   "metadata": {},
   "source": [
    "### 1. Detect Markers\n",
    "### 2. Interpolate Corner using known Board detials to improve detection\n",
    "### 3. Collect Corners and id of Markers."
   ]
  },
  {
   "cell_type": "code",
   "execution_count": 3,
   "metadata": {},
   "outputs": [
    {
     "name": "stdout",
     "output_type": "stream",
     "text": [
      "Detected 153 ArUco markers.\n",
      "Detected 232 Interpolated ArUco markers.\n",
      "Detected 153 ArUco markers.\n",
      "Detected 245 Interpolated ArUco markers.\n",
      "Detected 176 ArUco markers.\n",
      "Detected 307 Interpolated ArUco markers.\n",
      "Detected 146 ArUco markers.\n",
      "Detected 257 Interpolated ArUco markers.\n",
      "Detected 177 ArUco markers.\n",
      "Detected 319 Interpolated ArUco markers.\n",
      "Detected 168 ArUco markers.\n",
      "Detected 292 Interpolated ArUco markers.\n",
      "Detected 167 ArUco markers.\n",
      "Detected 285 Interpolated ArUco markers.\n",
      "Detected 148 ArUco markers.\n",
      "Detected 247 Interpolated ArUco markers.\n",
      "Detected 161 ArUco markers.\n",
      "Detected 276 Interpolated ArUco markers.\n",
      "Detected 138 ArUco markers.\n",
      "Detected 235 Interpolated ArUco markers.\n",
      "Detected 148 ArUco markers.\n",
      "Detected 245 Interpolated ArUco markers.\n",
      "Detected 138 ArUco markers.\n",
      "Detected 239 Interpolated ArUco markers.\n",
      "Detected 163 ArUco markers.\n",
      "Detected 283 Interpolated ArUco markers.\n",
      "Detected 158 ArUco markers.\n",
      "Detected 282 Interpolated ArUco markers.\n",
      "Detected 183 ArUco markers.\n",
      "Detected 319 Interpolated ArUco markers.\n",
      "Detected 134 ArUco markers.\n",
      "Detected 230 Interpolated ArUco markers.\n",
      "Detected 161 ArUco markers.\n",
      "Detected 280 Interpolated ArUco markers.\n",
      "Detected 175 ArUco markers.\n",
      "Detected 305 Interpolated ArUco markers.\n",
      "Detected 155 ArUco markers.\n",
      "Detected 266 Interpolated ArUco markers.\n",
      "Detected 137 ArUco markers.\n",
      "Detected 236 Interpolated ArUco markers.\n",
      "Detected 142 ArUco markers.\n",
      "Detected 245 Interpolated ArUco markers.\n",
      "Detected 177 ArUco markers.\n",
      "Detected 307 Interpolated ArUco markers.\n",
      "Detected 181 ArUco markers.\n",
      "Detected 318 Interpolated ArUco markers.\n",
      "Detected 159 ArUco markers.\n",
      "Detected 282 Interpolated ArUco markers.\n",
      "Detected 154 ArUco markers.\n",
      "Detected 276 Interpolated ArUco markers.\n",
      "Detected 157 ArUco markers.\n",
      "Detected 266 Interpolated ArUco markers.\n",
      "Detected 199 ArUco markers.\n",
      "Detected 343 Interpolated ArUco markers.\n",
      "Detected 172 ArUco markers.\n",
      "Detected 303 Interpolated ArUco markers.\n",
      "Detected 130 ArUco markers.\n",
      "Detected 223 Interpolated ArUco markers.\n",
      "Detected 180 ArUco markers.\n",
      "Detected 318 Interpolated ArUco markers.\n",
      "Detected 143 ArUco markers.\n",
      "Detected 249 Interpolated ArUco markers.\n",
      "Detected 155 ArUco markers.\n",
      "Detected 259 Interpolated ArUco markers.\n",
      "Detected 129 ArUco markers.\n",
      "Detected 199 Interpolated ArUco markers.\n",
      "Detected 151 ArUco markers.\n",
      "Detected 259 Interpolated ArUco markers.\n",
      "Detected 183 ArUco markers.\n",
      "Detected 286 Interpolated ArUco markers.\n",
      "Detected 156 ArUco markers.\n",
      "Detected 276 Interpolated ArUco markers.\n",
      "Detected 148 ArUco markers.\n",
      "Detected 254 Interpolated ArUco markers.\n",
      "Detected 157 ArUco markers.\n",
      "Detected 278 Interpolated ArUco markers.\n",
      "Detected 138 ArUco markers.\n",
      "Detected 241 Interpolated ArUco markers.\n",
      "39 images have valid ChArUco corners detected.\n"
     ]
    }
   ],
   "source": [
    "all_corners = []\n",
    "all_ids = []\n",
    "for image in right_images:\n",
    "    # Convert to grayscale for detection\n",
    "    gray = cv2.cvtColor(image, cv2.COLOR_BGR2GRAY)\n",
    "    \n",
    "    # Detect ArUco markers\n",
    "    markers, ids, _ = aruco.detectMarkers(gray, aruco_dict)\n",
    "    \n",
    "    # Draw markers on image for visual inspection\n",
    "    image_with_markers = aruco.drawDetectedMarkers(image.copy(), markers)\n",
    "    cv2.imshow('Detected ArUco markers', image_with_markers)\n",
    "    cv2.waitKey(500)\n",
    "    cv2.destroyAllWindows()\n",
    "\n",
    "    \n",
    "    if ids is not None:\n",
    "        print(f\"Detected {len(ids)} ArUco markers.\")\n",
    "        \n",
    "        # Interpolate Charuco corners\n",
    "        retval, charuco_corners, charuco_ids = aruco.interpolateCornersCharuco(markers, ids, gray, board)\n",
    "        \n",
    "        if charuco_corners is not None and charuco_ids is not None and len(charuco_corners) > 5:\n",
    "            all_corners.append(charuco_corners)\n",
    "            all_ids.append(charuco_ids)\n",
    "            print(f\"Detected {len(charuco_ids)} Interpolated ArUco markers.\")\n",
    "        else:\n",
    "            print(\"ChArUco corners could not be interpolated.\")\n",
    "    else:\n",
    "        print(\"No ArUco markers detected.\")\n",
    "\n",
    "print(len(all_corners), \"images have valid ChArUco corners detected.\")\n",
    "cv2.destroyAllWindows()\n",
    "\n"
   ]
  },
  {
   "attachments": {},
   "cell_type": "markdown",
   "metadata": {},
   "source": [
    "### Using Calbrate CameraCharuco estimate Intrincics (fx, fy, cx, cy), distortion parameters (Fisk eys model - k1, k2, k3, k4)"
   ]
  },
  {
   "cell_type": "code",
   "execution_count": 4,
   "metadata": {},
   "outputs": [],
   "source": [
    "imsize = right_images[0].shape[:2]\n",
    "fx = 670.0\n",
    "fy = 670.0\n",
    "cx = 640.0\n",
    "cy = 480.0\n",
    "   \n",
    "initial_camera_matrix = np.array([\n",
    "   [fx, 0, cx],\n",
    "   [0, fy, cy],\n",
    "   [0,  0,  1]\n",
    "])\n",
    "\n",
    "criteria = (cv2.TERM_CRITERIA_EPS + cv2.TERM_CRITERIA_MAX_ITER, 30, 0.001)\n",
    "flags = 0\n",
    "flags |= cv2.CALIB_USE_INTRINSIC_GUESS\n",
    "flags |= cv2.CALIB_RATIONAL_MODEL\n",
    "\n",
    "r_retval, r_cameraMatrix, r_distCoeffs, rvecs, tvecs = aruco.calibrateCameraCharuco(\n",
    "    charucoCorners=all_corners,\n",
    "    charucoIds=all_ids,\n",
    "    board=board,\n",
    "    imageSize=imsize,\n",
    "    cameraMatrix=initial_camera_matrix,\n",
    "    distCoeffs=None,\n",
    "    flags=flags,\n",
    "    criteria=criteria\n",
    ")\n"
   ]
  },
  {
   "cell_type": "code",
   "execution_count": 5,
   "metadata": {},
   "outputs": [
    {
     "name": "stdout",
     "output_type": "stream",
     "text": [
      "0.3576105489838216\n"
     ]
    }
   ],
   "source": [
    "print(r_retval)"
   ]
  },
  {
   "cell_type": "code",
   "execution_count": 6,
   "metadata": {},
   "outputs": [
    {
     "name": "stdout",
     "output_type": "stream",
     "text": [
      "[[570.01370738   0.         644.79305327]\n",
      " [  0.         570.36462896 383.24616992]\n",
      " [  0.           0.           1.        ]]\n"
     ]
    }
   ],
   "source": [
    "print(r_cameraMatrix)"
   ]
  },
  {
   "cell_type": "code",
   "execution_count": 7,
   "metadata": {},
   "outputs": [
    {
     "name": "stdout",
     "output_type": "stream",
     "text": [
      "[[ 3.04364691e-01 -3.39232891e-02  1.17107589e-04  3.01629606e-05\n",
      "  -8.25181503e-04  6.34493910e-01 -1.26666746e-02 -6.54137066e-03\n",
      "   0.00000000e+00  0.00000000e+00  0.00000000e+00  0.00000000e+00\n",
      "   0.00000000e+00  0.00000000e+00]]\n"
     ]
    }
   ],
   "source": [
    "print(r_distCoeffs)"
   ]
  },
  {
   "cell_type": "code",
   "execution_count": 8,
   "metadata": {},
   "outputs": [],
   "source": [
    "for i in range(len(right_images)):\n",
    "    rectified_img = cv2.undistort(right_images[i], r_cameraMatrix, r_distCoeffs,newCameraMatrix=None)\n",
    "    cv2.imwrite(\"rec_right/\"+str(i)+\".png\", rectified_img)\n",
    "    i=i+1\n"
   ]
  },
  {
   "cell_type": "code",
   "execution_count": null,
   "metadata": {},
   "outputs": [],
   "source": []
  },
  {
   "cell_type": "code",
   "execution_count": 9,
   "metadata": {},
   "outputs": [
    {
     "name": "stdout",
     "output_type": "stream",
     "text": [
      "Detected 145 ArUco markers.\n",
      "Detected 226 Interpolated ArUco markers.\n",
      "Detected 186 ArUco markers.\n",
      "Detected 331 Interpolated ArUco markers.\n",
      "Detected 150 ArUco markers.\n",
      "Detected 261 Interpolated ArUco markers.\n",
      "Detected 136 ArUco markers.\n",
      "Detected 230 Interpolated ArUco markers.\n",
      "Detected 177 ArUco markers.\n",
      "Detected 312 Interpolated ArUco markers.\n",
      "Detected 128 ArUco markers.\n",
      "Detected 225 Interpolated ArUco markers.\n",
      "Detected 155 ArUco markers.\n",
      "Detected 272 Interpolated ArUco markers.\n",
      "Detected 142 ArUco markers.\n",
      "Detected 249 Interpolated ArUco markers.\n",
      "Detected 184 ArUco markers.\n",
      "Detected 319 Interpolated ArUco markers.\n",
      "Detected 174 ArUco markers.\n",
      "Detected 311 Interpolated ArUco markers.\n",
      "Detected 153 ArUco markers.\n",
      "Detected 270 Interpolated ArUco markers.\n",
      "Detected 157 ArUco markers.\n",
      "Detected 271 Interpolated ArUco markers.\n",
      "Detected 161 ArUco markers.\n",
      "Detected 264 Interpolated ArUco markers.\n",
      "Detected 167 ArUco markers.\n",
      "Detected 282 Interpolated ArUco markers.\n",
      "Detected 180 ArUco markers.\n",
      "Detected 312 Interpolated ArUco markers.\n",
      "Detected 179 ArUco markers.\n",
      "Detected 321 Interpolated ArUco markers.\n",
      "Detected 187 ArUco markers.\n",
      "Detected 330 Interpolated ArUco markers.\n",
      "Detected 152 ArUco markers.\n",
      "Detected 262 Interpolated ArUco markers.\n",
      "Detected 139 ArUco markers.\n",
      "Detected 239 Interpolated ArUco markers.\n",
      "Detected 210 ArUco markers.\n",
      "Detected 365 Interpolated ArUco markers.\n",
      "Detected 153 ArUco markers.\n",
      "Detected 266 Interpolated ArUco markers.\n",
      "Detected 134 ArUco markers.\n",
      "Detected 233 Interpolated ArUco markers.\n",
      "Detected 196 ArUco markers.\n",
      "Detected 346 Interpolated ArUco markers.\n",
      "Detected 171 ArUco markers.\n",
      "Detected 301 Interpolated ArUco markers.\n",
      "Detected 135 ArUco markers.\n",
      "Detected 228 Interpolated ArUco markers.\n",
      "Detected 162 ArUco markers.\n",
      "Detected 289 Interpolated ArUco markers.\n",
      "Detected 154 ArUco markers.\n",
      "Detected 272 Interpolated ArUco markers.\n",
      "Detected 174 ArUco markers.\n",
      "Detected 305 Interpolated ArUco markers.\n",
      "Detected 145 ArUco markers.\n",
      "Detected 249 Interpolated ArUco markers.\n",
      "Detected 176 ArUco markers.\n",
      "Detected 315 Interpolated ArUco markers.\n",
      "Detected 170 ArUco markers.\n",
      "Detected 301 Interpolated ArUco markers.\n",
      "Detected 191 ArUco markers.\n",
      "Detected 311 Interpolated ArUco markers.\n",
      "Detected 168 ArUco markers.\n",
      "Detected 284 Interpolated ArUco markers.\n",
      "Detected 171 ArUco markers.\n",
      "Detected 292 Interpolated ArUco markers.\n",
      "Detected 151 ArUco markers.\n",
      "Detected 255 Interpolated ArUco markers.\n",
      "Detected 134 ArUco markers.\n",
      "Detected 226 Interpolated ArUco markers.\n",
      "Detected 151 ArUco markers.\n",
      "Detected 261 Interpolated ArUco markers.\n",
      "Detected 195 ArUco markers.\n",
      "Detected 342 Interpolated ArUco markers.\n",
      "Detected 132 ArUco markers.\n",
      "Detected 213 Interpolated ArUco markers.\n",
      "39 images have valid ChArUco corners detected.\n"
     ]
    }
   ],
   "source": [
    "all_corners = []\n",
    "all_ids = []\n",
    "for image in left_images:\n",
    "    # Convert to grayscale for detection\n",
    "    gray = cv2.cvtColor(image, cv2.COLOR_BGR2GRAY)\n",
    "    \n",
    "    # Detect ArUco markers\n",
    "    markers, ids, _ = aruco.detectMarkers(gray, aruco_dict)\n",
    "    \n",
    "    # Draw markers on image for visual inspection\n",
    "    image_with_markers = aruco.drawDetectedMarkers(image.copy(), markers)\n",
    "    cv2.imshow('Detected ArUco markers', image_with_markers)\n",
    "    cv2.waitKey(500)\n",
    "    cv2.destroyAllWindows()\n",
    "\n",
    "    \n",
    "    if ids is not None:\n",
    "        print(f\"Detected {len(ids)} ArUco markers.\")\n",
    "        \n",
    "        # Interpolate Charuco corners\n",
    "        retval, charuco_corners, charuco_ids = aruco.interpolateCornersCharuco(markers, ids, gray, board)\n",
    "        \n",
    "        if charuco_corners is not None and charuco_ids is not None and len(charuco_corners) > 5:\n",
    "            all_corners.append(charuco_corners)\n",
    "            all_ids.append(charuco_ids)\n",
    "            print(f\"Detected {len(charuco_ids)} Interpolated ArUco markers.\")\n",
    "        else:\n",
    "            print(\"ChArUco corners could not be interpolated.\")\n",
    "    else:\n",
    "        print(\"No ArUco markers detected.\")\n",
    "\n",
    "print(len(all_corners), \"images have valid ChArUco corners detected.\")\n",
    "cv2.destroyAllWindows()\n",
    "\n"
   ]
  },
  {
   "cell_type": "code",
   "execution_count": 10,
   "metadata": {},
   "outputs": [],
   "source": [
    "imsize = right_images[0].shape[:2]\n",
    "fx = 670.0\n",
    "fy = 670.0\n",
    "cx = 640.0\n",
    "cy = 480.0\n",
    "   \n",
    "initial_camera_matrix = np.array([\n",
    "   [fx, 0, cx],\n",
    "   [0, fy, cy],\n",
    "   [0,  0,  1]\n",
    "])\n",
    "\n",
    "criteria = (cv2.TERM_CRITERIA_EPS + cv2.TERM_CRITERIA_MAX_ITER, 30, 0.001)\n",
    "flags = 0\n",
    "flags |= cv2.CALIB_USE_INTRINSIC_GUESS\n",
    "flags |= cv2.CALIB_RATIONAL_MODEL\n",
    "\n",
    "l_retval, l_cameraMatrix, l_distCoeffs, rvecs, tvecs = aruco.calibrateCameraCharuco(\n",
    "    charucoCorners=all_corners,\n",
    "    charucoIds=all_ids,\n",
    "    board=board,\n",
    "    imageSize=imsize,\n",
    "    cameraMatrix=initial_camera_matrix,\n",
    "    distCoeffs=None,\n",
    "    flags=flags,\n",
    "    criteria=criteria\n",
    ")\n"
   ]
  },
  {
   "cell_type": "code",
   "execution_count": 11,
   "metadata": {},
   "outputs": [
    {
     "name": "stdout",
     "output_type": "stream",
     "text": [
      "0.3691704770007572\n"
     ]
    }
   ],
   "source": [
    "print(l_retval)"
   ]
  },
  {
   "cell_type": "code",
   "execution_count": 12,
   "metadata": {},
   "outputs": [
    {
     "name": "stdout",
     "output_type": "stream",
     "text": [
      "[[573.82488599   0.         630.08758367]\n",
      " [  0.         573.84024759 382.12561572]\n",
      " [  0.           0.           1.        ]]\n"
     ]
    }
   ],
   "source": [
    "print(l_cameraMatrix)"
   ]
  },
  {
   "cell_type": "code",
   "execution_count": 13,
   "metadata": {},
   "outputs": [
    {
     "name": "stdout",
     "output_type": "stream",
     "text": [
      "[[ 2.93269155e-01 -3.75668944e-02  1.02177640e-04  1.22342540e-04\n",
      "  -1.04479176e-03  6.20933219e-01 -1.84024849e-02 -7.52657979e-03\n",
      "   0.00000000e+00  0.00000000e+00  0.00000000e+00  0.00000000e+00\n",
      "   0.00000000e+00  0.00000000e+00]]\n"
     ]
    }
   ],
   "source": [
    "print(l_distCoeffs)"
   ]
  },
  {
   "cell_type": "code",
   "execution_count": 14,
   "metadata": {},
   "outputs": [],
   "source": [
    "for i in range(len(left_images)):\n",
    "    rectified_img = cv2.undistort(left_images[i], l_cameraMatrix, l_distCoeffs,newCameraMatrix=None)\n",
    "    cv2.imwrite(\"rec_left/\"+str(i)+\".png\", rectified_img)\n",
    "    i=i+1\n"
   ]
  },
  {
   "attachments": {},
   "cell_type": "markdown",
   "metadata": {},
   "source": [
    "### Now we have calibrated both of Stereo Pair\n"
   ]
  },
  {
   "cell_type": "code",
   "execution_count": 15,
   "metadata": {},
   "outputs": [
    {
     "name": "stdout",
     "output_type": "stream",
     "text": [
      "Left Camera Matrix [[573.82488599   0.         630.08758367]\n",
      " [  0.         573.84024759 382.12561572]\n",
      " [  0.           0.           1.        ]]\n"
     ]
    }
   ],
   "source": [
    "print(\"Left Camera Matrix\", l_cameraMatrix)"
   ]
  },
  {
   "cell_type": "code",
   "execution_count": 16,
   "metadata": {},
   "outputs": [
    {
     "name": "stdout",
     "output_type": "stream",
     "text": [
      "Right Camera Matrix [[570.01370738   0.         644.79305327]\n",
      " [  0.         570.36462896 383.24616992]\n",
      " [  0.           0.           1.        ]]\n"
     ]
    }
   ],
   "source": [
    "print(\"Right Camera Matrix\", r_cameraMatrix)"
   ]
  }
 ],
 "metadata": {
  "kernelspec": {
   "display_name": ".venv",
   "language": "python",
   "name": "python3"
  },
  "language_info": {
   "codemirror_mode": {
    "name": "ipython",
    "version": 3
   },
   "file_extension": ".py",
   "mimetype": "text/x-python",
   "name": "python",
   "nbconvert_exporter": "python",
   "pygments_lexer": "ipython3",
   "version": "3.11.4"
  },
  "orig_nbformat": 4
 },
 "nbformat": 4,
 "nbformat_minor": 2
}
